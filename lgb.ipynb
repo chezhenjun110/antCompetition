{
 "cells": [
  {
   "cell_type": "code",
   "execution_count": 1,
   "metadata": {},
   "outputs": [],
   "source": [
    "import lightgbm as lgb\n",
    "import pandas as pd\n",
    "import numpy as np\n",
    "from sklearn.model_selection import train_test_split"
   ]
  },
  {
   "cell_type": "code",
   "execution_count": 2,
   "metadata": {},
   "outputs": [],
   "source": [
    "def get_cate_features(data):\n",
    "    cat_col=[]\n",
    "    cols = [c for c in data.columns if 'f' in c]\n",
    "    for col in cols:\n",
    "        if train[col].dtype =='int64':\n",
    "            cat_col.append(col)\n",
    "    return cat_col"
   ]
  },
  {
   "cell_type": "code",
   "execution_count": 53,
   "metadata": {},
   "outputs": [],
   "source": [
    "train=pd.read_csv(\"train.csv\")\n",
    "test=pd.read_csv(\"test.csv\")"
   ]
  },
  {
   "cell_type": "code",
   "execution_count": 55,
   "metadata": {},
   "outputs": [
    {
     "data": {
      "text/plain": [
       "(990006, 172)"
      ]
     },
     "execution_count": 55,
     "metadata": {},
     "output_type": "execute_result"
    }
   ],
   "source": [
    "train.shape"
   ]
  },
  {
   "cell_type": "code",
   "execution_count": 62,
   "metadata": {
    "scrolled": true
   },
   "outputs": [],
   "source": [
    "train.fillna(-999,inplace=True)\n",
    "test.fillna(-999,inplace=True)"
   ]
  },
  {
   "cell_type": "code",
   "execution_count": 63,
   "metadata": {
    "scrolled": true
   },
   "outputs": [
    {
     "ename": "KeyError",
     "evalue": "'label'",
     "output_type": "error",
     "traceback": [
      "\u001b[1;31m---------------------------------------------------------------------------\u001b[0m",
      "\u001b[1;31mKeyError\u001b[0m                                  Traceback (most recent call last)",
      "\u001b[1;32mC:\\ProgramData\\Anaconda3\\lib\\site-packages\\pandas\\core\\indexes\\base.py\u001b[0m in \u001b[0;36mget_loc\u001b[1;34m(self, key, method, tolerance)\u001b[0m\n\u001b[0;32m   2524\u001b[0m             \u001b[1;32mtry\u001b[0m\u001b[1;33m:\u001b[0m\u001b[1;33m\u001b[0m\u001b[0m\n\u001b[1;32m-> 2525\u001b[1;33m                 \u001b[1;32mreturn\u001b[0m \u001b[0mself\u001b[0m\u001b[1;33m.\u001b[0m\u001b[0m_engine\u001b[0m\u001b[1;33m.\u001b[0m\u001b[0mget_loc\u001b[0m\u001b[1;33m(\u001b[0m\u001b[0mkey\u001b[0m\u001b[1;33m)\u001b[0m\u001b[1;33m\u001b[0m\u001b[0m\n\u001b[0m\u001b[0;32m   2526\u001b[0m             \u001b[1;32mexcept\u001b[0m \u001b[0mKeyError\u001b[0m\u001b[1;33m:\u001b[0m\u001b[1;33m\u001b[0m\u001b[0m\n",
      "\u001b[1;32mpandas/_libs/index.pyx\u001b[0m in \u001b[0;36mpandas._libs.index.IndexEngine.get_loc\u001b[1;34m()\u001b[0m\n",
      "\u001b[1;32mpandas/_libs/index.pyx\u001b[0m in \u001b[0;36mpandas._libs.index.IndexEngine.get_loc\u001b[1;34m()\u001b[0m\n",
      "\u001b[1;32mpandas/_libs/hashtable_class_helper.pxi\u001b[0m in \u001b[0;36mpandas._libs.hashtable.PyObjectHashTable.get_item\u001b[1;34m()\u001b[0m\n",
      "\u001b[1;32mpandas/_libs/hashtable_class_helper.pxi\u001b[0m in \u001b[0;36mpandas._libs.hashtable.PyObjectHashTable.get_item\u001b[1;34m()\u001b[0m\n",
      "\u001b[1;31mKeyError\u001b[0m: 'label'",
      "\nDuring handling of the above exception, another exception occurred:\n",
      "\u001b[1;31mKeyError\u001b[0m                                  Traceback (most recent call last)",
      "\u001b[1;32m<ipython-input-63-47c967c75cf6>\u001b[0m in \u001b[0;36m<module>\u001b[1;34m()\u001b[0m\n\u001b[1;32m----> 1\u001b[1;33m \u001b[0my\u001b[0m\u001b[1;33m=\u001b[0m\u001b[0mtrain\u001b[0m\u001b[1;33m[\u001b[0m\u001b[1;34m\"label\"\u001b[0m\u001b[1;33m]\u001b[0m\u001b[1;33m.\u001b[0m\u001b[0mvalues\u001b[0m\u001b[1;33m\u001b[0m\u001b[0m\n\u001b[0m\u001b[0;32m      2\u001b[0m \u001b[0mtrain\u001b[0m\u001b[1;33m.\u001b[0m\u001b[0mdrop\u001b[0m\u001b[1;33m(\u001b[0m\u001b[1;33m[\u001b[0m\u001b[1;34m\"label\"\u001b[0m\u001b[1;33m,\u001b[0m\u001b[1;34m\"date\"\u001b[0m\u001b[1;33m]\u001b[0m\u001b[1;33m,\u001b[0m\u001b[0maxis\u001b[0m\u001b[1;33m=\u001b[0m\u001b[1;36m1\u001b[0m\u001b[1;33m,\u001b[0m\u001b[0minplace\u001b[0m\u001b[1;33m=\u001b[0m\u001b[1;32mTrue\u001b[0m\u001b[1;33m)\u001b[0m\u001b[1;33m\u001b[0m\u001b[0m\n\u001b[0;32m      3\u001b[0m \u001b[0mtest\u001b[0m\u001b[1;33m.\u001b[0m\u001b[0mdrop\u001b[0m\u001b[1;33m(\u001b[0m\u001b[1;33m[\u001b[0m\u001b[1;34m\"label\"\u001b[0m\u001b[1;33m,\u001b[0m\u001b[1;34m\"date\"\u001b[0m\u001b[1;33m]\u001b[0m\u001b[1;33m,\u001b[0m\u001b[0maxis\u001b[0m\u001b[1;33m=\u001b[0m\u001b[1;36m1\u001b[0m\u001b[1;33m,\u001b[0m\u001b[0minplace\u001b[0m\u001b[1;33m=\u001b[0m\u001b[1;32mTrue\u001b[0m\u001b[1;33m)\u001b[0m\u001b[1;33m\u001b[0m\u001b[0m\n",
      "\u001b[1;32mC:\\ProgramData\\Anaconda3\\lib\\site-packages\\pandas\\core\\frame.py\u001b[0m in \u001b[0;36m__getitem__\u001b[1;34m(self, key)\u001b[0m\n\u001b[0;32m   2137\u001b[0m             \u001b[1;32mreturn\u001b[0m \u001b[0mself\u001b[0m\u001b[1;33m.\u001b[0m\u001b[0m_getitem_multilevel\u001b[0m\u001b[1;33m(\u001b[0m\u001b[0mkey\u001b[0m\u001b[1;33m)\u001b[0m\u001b[1;33m\u001b[0m\u001b[0m\n\u001b[0;32m   2138\u001b[0m         \u001b[1;32melse\u001b[0m\u001b[1;33m:\u001b[0m\u001b[1;33m\u001b[0m\u001b[0m\n\u001b[1;32m-> 2139\u001b[1;33m             \u001b[1;32mreturn\u001b[0m \u001b[0mself\u001b[0m\u001b[1;33m.\u001b[0m\u001b[0m_getitem_column\u001b[0m\u001b[1;33m(\u001b[0m\u001b[0mkey\u001b[0m\u001b[1;33m)\u001b[0m\u001b[1;33m\u001b[0m\u001b[0m\n\u001b[0m\u001b[0;32m   2140\u001b[0m \u001b[1;33m\u001b[0m\u001b[0m\n\u001b[0;32m   2141\u001b[0m     \u001b[1;32mdef\u001b[0m \u001b[0m_getitem_column\u001b[0m\u001b[1;33m(\u001b[0m\u001b[0mself\u001b[0m\u001b[1;33m,\u001b[0m \u001b[0mkey\u001b[0m\u001b[1;33m)\u001b[0m\u001b[1;33m:\u001b[0m\u001b[1;33m\u001b[0m\u001b[0m\n",
      "\u001b[1;32mC:\\ProgramData\\Anaconda3\\lib\\site-packages\\pandas\\core\\frame.py\u001b[0m in \u001b[0;36m_getitem_column\u001b[1;34m(self, key)\u001b[0m\n\u001b[0;32m   2144\u001b[0m         \u001b[1;31m# get column\u001b[0m\u001b[1;33m\u001b[0m\u001b[1;33m\u001b[0m\u001b[0m\n\u001b[0;32m   2145\u001b[0m         \u001b[1;32mif\u001b[0m \u001b[0mself\u001b[0m\u001b[1;33m.\u001b[0m\u001b[0mcolumns\u001b[0m\u001b[1;33m.\u001b[0m\u001b[0mis_unique\u001b[0m\u001b[1;33m:\u001b[0m\u001b[1;33m\u001b[0m\u001b[0m\n\u001b[1;32m-> 2146\u001b[1;33m             \u001b[1;32mreturn\u001b[0m \u001b[0mself\u001b[0m\u001b[1;33m.\u001b[0m\u001b[0m_get_item_cache\u001b[0m\u001b[1;33m(\u001b[0m\u001b[0mkey\u001b[0m\u001b[1;33m)\u001b[0m\u001b[1;33m\u001b[0m\u001b[0m\n\u001b[0m\u001b[0;32m   2147\u001b[0m \u001b[1;33m\u001b[0m\u001b[0m\n\u001b[0;32m   2148\u001b[0m         \u001b[1;31m# duplicate columns & possible reduce dimensionality\u001b[0m\u001b[1;33m\u001b[0m\u001b[1;33m\u001b[0m\u001b[0m\n",
      "\u001b[1;32mC:\\ProgramData\\Anaconda3\\lib\\site-packages\\pandas\\core\\generic.py\u001b[0m in \u001b[0;36m_get_item_cache\u001b[1;34m(self, item)\u001b[0m\n\u001b[0;32m   1840\u001b[0m         \u001b[0mres\u001b[0m \u001b[1;33m=\u001b[0m \u001b[0mcache\u001b[0m\u001b[1;33m.\u001b[0m\u001b[0mget\u001b[0m\u001b[1;33m(\u001b[0m\u001b[0mitem\u001b[0m\u001b[1;33m)\u001b[0m\u001b[1;33m\u001b[0m\u001b[0m\n\u001b[0;32m   1841\u001b[0m         \u001b[1;32mif\u001b[0m \u001b[0mres\u001b[0m \u001b[1;32mis\u001b[0m \u001b[1;32mNone\u001b[0m\u001b[1;33m:\u001b[0m\u001b[1;33m\u001b[0m\u001b[0m\n\u001b[1;32m-> 1842\u001b[1;33m             \u001b[0mvalues\u001b[0m \u001b[1;33m=\u001b[0m \u001b[0mself\u001b[0m\u001b[1;33m.\u001b[0m\u001b[0m_data\u001b[0m\u001b[1;33m.\u001b[0m\u001b[0mget\u001b[0m\u001b[1;33m(\u001b[0m\u001b[0mitem\u001b[0m\u001b[1;33m)\u001b[0m\u001b[1;33m\u001b[0m\u001b[0m\n\u001b[0m\u001b[0;32m   1843\u001b[0m             \u001b[0mres\u001b[0m \u001b[1;33m=\u001b[0m \u001b[0mself\u001b[0m\u001b[1;33m.\u001b[0m\u001b[0m_box_item_values\u001b[0m\u001b[1;33m(\u001b[0m\u001b[0mitem\u001b[0m\u001b[1;33m,\u001b[0m \u001b[0mvalues\u001b[0m\u001b[1;33m)\u001b[0m\u001b[1;33m\u001b[0m\u001b[0m\n\u001b[0;32m   1844\u001b[0m             \u001b[0mcache\u001b[0m\u001b[1;33m[\u001b[0m\u001b[0mitem\u001b[0m\u001b[1;33m]\u001b[0m \u001b[1;33m=\u001b[0m \u001b[0mres\u001b[0m\u001b[1;33m\u001b[0m\u001b[0m\n",
      "\u001b[1;32mC:\\ProgramData\\Anaconda3\\lib\\site-packages\\pandas\\core\\internals.py\u001b[0m in \u001b[0;36mget\u001b[1;34m(self, item, fastpath)\u001b[0m\n\u001b[0;32m   3841\u001b[0m \u001b[1;33m\u001b[0m\u001b[0m\n\u001b[0;32m   3842\u001b[0m             \u001b[1;32mif\u001b[0m \u001b[1;32mnot\u001b[0m \u001b[0misna\u001b[0m\u001b[1;33m(\u001b[0m\u001b[0mitem\u001b[0m\u001b[1;33m)\u001b[0m\u001b[1;33m:\u001b[0m\u001b[1;33m\u001b[0m\u001b[0m\n\u001b[1;32m-> 3843\u001b[1;33m                 \u001b[0mloc\u001b[0m \u001b[1;33m=\u001b[0m \u001b[0mself\u001b[0m\u001b[1;33m.\u001b[0m\u001b[0mitems\u001b[0m\u001b[1;33m.\u001b[0m\u001b[0mget_loc\u001b[0m\u001b[1;33m(\u001b[0m\u001b[0mitem\u001b[0m\u001b[1;33m)\u001b[0m\u001b[1;33m\u001b[0m\u001b[0m\n\u001b[0m\u001b[0;32m   3844\u001b[0m             \u001b[1;32melse\u001b[0m\u001b[1;33m:\u001b[0m\u001b[1;33m\u001b[0m\u001b[0m\n\u001b[0;32m   3845\u001b[0m                 \u001b[0mindexer\u001b[0m \u001b[1;33m=\u001b[0m \u001b[0mnp\u001b[0m\u001b[1;33m.\u001b[0m\u001b[0marange\u001b[0m\u001b[1;33m(\u001b[0m\u001b[0mlen\u001b[0m\u001b[1;33m(\u001b[0m\u001b[0mself\u001b[0m\u001b[1;33m.\u001b[0m\u001b[0mitems\u001b[0m\u001b[1;33m)\u001b[0m\u001b[1;33m)\u001b[0m\u001b[1;33m[\u001b[0m\u001b[0misna\u001b[0m\u001b[1;33m(\u001b[0m\u001b[0mself\u001b[0m\u001b[1;33m.\u001b[0m\u001b[0mitems\u001b[0m\u001b[1;33m)\u001b[0m\u001b[1;33m]\u001b[0m\u001b[1;33m\u001b[0m\u001b[0m\n",
      "\u001b[1;32mC:\\ProgramData\\Anaconda3\\lib\\site-packages\\pandas\\core\\indexes\\base.py\u001b[0m in \u001b[0;36mget_loc\u001b[1;34m(self, key, method, tolerance)\u001b[0m\n\u001b[0;32m   2525\u001b[0m                 \u001b[1;32mreturn\u001b[0m \u001b[0mself\u001b[0m\u001b[1;33m.\u001b[0m\u001b[0m_engine\u001b[0m\u001b[1;33m.\u001b[0m\u001b[0mget_loc\u001b[0m\u001b[1;33m(\u001b[0m\u001b[0mkey\u001b[0m\u001b[1;33m)\u001b[0m\u001b[1;33m\u001b[0m\u001b[0m\n\u001b[0;32m   2526\u001b[0m             \u001b[1;32mexcept\u001b[0m \u001b[0mKeyError\u001b[0m\u001b[1;33m:\u001b[0m\u001b[1;33m\u001b[0m\u001b[0m\n\u001b[1;32m-> 2527\u001b[1;33m                 \u001b[1;32mreturn\u001b[0m \u001b[0mself\u001b[0m\u001b[1;33m.\u001b[0m\u001b[0m_engine\u001b[0m\u001b[1;33m.\u001b[0m\u001b[0mget_loc\u001b[0m\u001b[1;33m(\u001b[0m\u001b[0mself\u001b[0m\u001b[1;33m.\u001b[0m\u001b[0m_maybe_cast_indexer\u001b[0m\u001b[1;33m(\u001b[0m\u001b[0mkey\u001b[0m\u001b[1;33m)\u001b[0m\u001b[1;33m)\u001b[0m\u001b[1;33m\u001b[0m\u001b[0m\n\u001b[0m\u001b[0;32m   2528\u001b[0m \u001b[1;33m\u001b[0m\u001b[0m\n\u001b[0;32m   2529\u001b[0m         \u001b[0mindexer\u001b[0m \u001b[1;33m=\u001b[0m \u001b[0mself\u001b[0m\u001b[1;33m.\u001b[0m\u001b[0mget_indexer\u001b[0m\u001b[1;33m(\u001b[0m\u001b[1;33m[\u001b[0m\u001b[0mkey\u001b[0m\u001b[1;33m]\u001b[0m\u001b[1;33m,\u001b[0m \u001b[0mmethod\u001b[0m\u001b[1;33m=\u001b[0m\u001b[0mmethod\u001b[0m\u001b[1;33m,\u001b[0m \u001b[0mtolerance\u001b[0m\u001b[1;33m=\u001b[0m\u001b[0mtolerance\u001b[0m\u001b[1;33m)\u001b[0m\u001b[1;33m\u001b[0m\u001b[0m\n",
      "\u001b[1;32mpandas/_libs/index.pyx\u001b[0m in \u001b[0;36mpandas._libs.index.IndexEngine.get_loc\u001b[1;34m()\u001b[0m\n",
      "\u001b[1;32mpandas/_libs/index.pyx\u001b[0m in \u001b[0;36mpandas._libs.index.IndexEngine.get_loc\u001b[1;34m()\u001b[0m\n",
      "\u001b[1;32mpandas/_libs/hashtable_class_helper.pxi\u001b[0m in \u001b[0;36mpandas._libs.hashtable.PyObjectHashTable.get_item\u001b[1;34m()\u001b[0m\n",
      "\u001b[1;32mpandas/_libs/hashtable_class_helper.pxi\u001b[0m in \u001b[0;36mpandas._libs.hashtable.PyObjectHashTable.get_item\u001b[1;34m()\u001b[0m\n",
      "\u001b[1;31mKeyError\u001b[0m: 'label'"
     ]
    }
   ],
   "source": [
    "y=train[\"label\"].values\n",
    "train.drop([\"label\",\"date\"],axis=1,inplace=True)\n",
    "test.drop([\"label\",\"date\"],axis=1,inplace=True)"
   ]
  },
  {
   "cell_type": "code",
   "execution_count": 66,
   "metadata": {},
   "outputs": [],
   "source": [
    "X=train\n",
    "x_test=test"
   ]
  },
  {
   "cell_type": "code",
   "execution_count": 67,
   "metadata": {},
   "outputs": [],
   "source": [
    "train_x,valid_x,train_y,valid_y=train_test_split(X,y,test_size=0.2,random_state=2018)\n",
    "categorical_feature=get_cate_features(train)\n",
    "features=train.columns.tolist()"
   ]
  },
  {
   "cell_type": "code",
   "execution_count": 72,
   "metadata": {
    "scrolled": true
   },
   "outputs": [
    {
     "name": "stderr",
     "output_type": "stream",
     "text": [
      "C:\\ProgramData\\Anaconda3\\lib\\site-packages\\lightgbm\\basic.py:1038: UserWarning: categorical_feature in Dataset is overridden. New categorical_feature is ['f1', 'f10', 'f11', 'f12', 'f13', 'f14', 'f15', 'f16', 'f17', 'f18', 'f19', 'f2', 'f3', 'f4', 'f6', 'f7', 'f8', 'f9']\n",
      "  warnings.warn('categorical_feature in Dataset is overridden. New categorical_feature is {}'.format(sorted(list(categorical_feature))))\n"
     ]
    },
    {
     "name": "stdout",
     "output_type": "stream",
     "text": [
      "[1]\tvalid_0's auc: 0.913976\n",
      "Training until validation scores don't improve for 100 rounds.\n",
      "[2]\tvalid_0's auc: 0.951484\n",
      "[3]\tvalid_0's auc: 0.950283\n",
      "[4]\tvalid_0's auc: 0.950406\n",
      "[5]\tvalid_0's auc: 0.954821\n",
      "[6]\tvalid_0's auc: 0.954541\n",
      "[7]\tvalid_0's auc: 0.957878\n",
      "[8]\tvalid_0's auc: 0.958955\n",
      "[9]\tvalid_0's auc: 0.959545\n",
      "[10]\tvalid_0's auc: 0.95964\n",
      "[11]\tvalid_0's auc: 0.96229\n",
      "[12]\tvalid_0's auc: 0.962618\n",
      "[13]\tvalid_0's auc: 0.962652\n",
      "[14]\tvalid_0's auc: 0.9647\n",
      "[15]\tvalid_0's auc: 0.965432\n",
      "[16]\tvalid_0's auc: 0.965623\n",
      "[17]\tvalid_0's auc: 0.968667\n",
      "[18]\tvalid_0's auc: 0.969401\n",
      "[19]\tvalid_0's auc: 0.969803\n",
      "[20]\tvalid_0's auc: 0.970359\n",
      "[21]\tvalid_0's auc: 0.970618\n",
      "[22]\tvalid_0's auc: 0.970754\n",
      "[23]\tvalid_0's auc: 0.97201\n",
      "[24]\tvalid_0's auc: 0.973268\n",
      "[25]\tvalid_0's auc: 0.974216\n",
      "[26]\tvalid_0's auc: 0.974371\n",
      "[27]\tvalid_0's auc: 0.974598\n",
      "[28]\tvalid_0's auc: 0.974974\n",
      "[29]\tvalid_0's auc: 0.975331\n",
      "[30]\tvalid_0's auc: 0.975533\n",
      "[31]\tvalid_0's auc: 0.976637\n",
      "[32]\tvalid_0's auc: 0.976896\n",
      "[33]\tvalid_0's auc: 0.977008\n",
      "[34]\tvalid_0's auc: 0.977357\n",
      "[35]\tvalid_0's auc: 0.977344\n",
      "[36]\tvalid_0's auc: 0.977564\n",
      "[37]\tvalid_0's auc: 0.977471\n",
      "[38]\tvalid_0's auc: 0.977408\n",
      "[39]\tvalid_0's auc: 0.977823\n",
      "[40]\tvalid_0's auc: 0.977894\n",
      "[41]\tvalid_0's auc: 0.97821\n",
      "[42]\tvalid_0's auc: 0.978525\n",
      "[43]\tvalid_0's auc: 0.978732\n",
      "[44]\tvalid_0's auc: 0.979108\n",
      "[45]\tvalid_0's auc: 0.979399\n",
      "[46]\tvalid_0's auc: 0.979741\n",
      "[47]\tvalid_0's auc: 0.980775\n",
      "[48]\tvalid_0's auc: 0.981062\n",
      "[49]\tvalid_0's auc: 0.981352\n",
      "[50]\tvalid_0's auc: 0.982282\n",
      "[51]\tvalid_0's auc: 0.982521\n",
      "[52]\tvalid_0's auc: 0.98273\n",
      "[53]\tvalid_0's auc: 0.982834\n",
      "[54]\tvalid_0's auc: 0.98313\n",
      "[55]\tvalid_0's auc: 0.983326\n",
      "[56]\tvalid_0's auc: 0.983562\n",
      "[57]\tvalid_0's auc: 0.983675\n",
      "[58]\tvalid_0's auc: 0.98384\n",
      "[59]\tvalid_0's auc: 0.983886\n",
      "[60]\tvalid_0's auc: 0.983994\n",
      "[61]\tvalid_0's auc: 0.983999\n",
      "[62]\tvalid_0's auc: 0.984167\n",
      "[63]\tvalid_0's auc: 0.984277\n",
      "[64]\tvalid_0's auc: 0.984484\n",
      "[65]\tvalid_0's auc: 0.984588\n",
      "[66]\tvalid_0's auc: 0.984661\n",
      "[67]\tvalid_0's auc: 0.984672\n",
      "[68]\tvalid_0's auc: 0.984727\n",
      "[69]\tvalid_0's auc: 0.984774\n",
      "[70]\tvalid_0's auc: 0.984946\n",
      "[71]\tvalid_0's auc: 0.985074\n",
      "[72]\tvalid_0's auc: 0.98507\n",
      "[73]\tvalid_0's auc: 0.985173\n",
      "[74]\tvalid_0's auc: 0.98525\n",
      "[75]\tvalid_0's auc: 0.985333\n",
      "[76]\tvalid_0's auc: 0.985345\n",
      "[77]\tvalid_0's auc: 0.9854\n",
      "[78]\tvalid_0's auc: 0.985406\n",
      "[79]\tvalid_0's auc: 0.985392\n",
      "[80]\tvalid_0's auc: 0.985403\n",
      "[81]\tvalid_0's auc: 0.985479\n",
      "[82]\tvalid_0's auc: 0.985492\n",
      "[83]\tvalid_0's auc: 0.985528\n",
      "[84]\tvalid_0's auc: 0.985577\n",
      "[85]\tvalid_0's auc: 0.985568\n",
      "[86]\tvalid_0's auc: 0.985561\n",
      "[87]\tvalid_0's auc: 0.985535\n",
      "[88]\tvalid_0's auc: 0.985599\n",
      "[89]\tvalid_0's auc: 0.985579\n",
      "[90]\tvalid_0's auc: 0.985594\n",
      "[91]\tvalid_0's auc: 0.985606\n",
      "[92]\tvalid_0's auc: 0.985588\n",
      "[93]\tvalid_0's auc: 0.985601\n",
      "[94]\tvalid_0's auc: 0.985735\n",
      "[95]\tvalid_0's auc: 0.985686\n",
      "[96]\tvalid_0's auc: 0.98573\n",
      "[97]\tvalid_0's auc: 0.985688\n",
      "[98]\tvalid_0's auc: 0.98583\n",
      "[99]\tvalid_0's auc: 0.985838\n",
      "[100]\tvalid_0's auc: 0.985851\n",
      "[101]\tvalid_0's auc: 0.985753\n",
      "[102]\tvalid_0's auc: 0.985726\n",
      "[103]\tvalid_0's auc: 0.985748\n",
      "[104]\tvalid_0's auc: 0.985805\n",
      "[105]\tvalid_0's auc: 0.985798\n",
      "[106]\tvalid_0's auc: 0.985771\n",
      "[107]\tvalid_0's auc: 0.985736\n",
      "[108]\tvalid_0's auc: 0.985636\n",
      "[109]\tvalid_0's auc: 0.985625\n",
      "[110]\tvalid_0's auc: 0.985615\n",
      "[111]\tvalid_0's auc: 0.98554\n",
      "[112]\tvalid_0's auc: 0.985562\n",
      "[113]\tvalid_0's auc: 0.985478\n",
      "[114]\tvalid_0's auc: 0.985542\n",
      "[115]\tvalid_0's auc: 0.985519\n",
      "[116]\tvalid_0's auc: 0.985537\n",
      "[117]\tvalid_0's auc: 0.985589\n",
      "[118]\tvalid_0's auc: 0.985615\n",
      "[119]\tvalid_0's auc: 0.985566\n",
      "[120]\tvalid_0's auc: 0.985613\n",
      "[121]\tvalid_0's auc: 0.98558\n",
      "[122]\tvalid_0's auc: 0.985608\n",
      "[123]\tvalid_0's auc: 0.985604\n",
      "[124]\tvalid_0's auc: 0.985638\n",
      "[125]\tvalid_0's auc: 0.985605\n",
      "[126]\tvalid_0's auc: 0.985641\n",
      "[127]\tvalid_0's auc: 0.98564\n",
      "[128]\tvalid_0's auc: 0.985575\n",
      "[129]\tvalid_0's auc: 0.985569\n",
      "[130]\tvalid_0's auc: 0.985578\n",
      "[131]\tvalid_0's auc: 0.985569\n",
      "[132]\tvalid_0's auc: 0.985495\n",
      "[133]\tvalid_0's auc: 0.98555\n",
      "[134]\tvalid_0's auc: 0.985493\n",
      "[135]\tvalid_0's auc: 0.985509\n",
      "[136]\tvalid_0's auc: 0.985528\n",
      "[137]\tvalid_0's auc: 0.985472\n",
      "[138]\tvalid_0's auc: 0.985434\n",
      "[139]\tvalid_0's auc: 0.98548\n",
      "[140]\tvalid_0's auc: 0.985446\n",
      "[141]\tvalid_0's auc: 0.985461\n",
      "[142]\tvalid_0's auc: 0.985405\n",
      "[143]\tvalid_0's auc: 0.98542\n",
      "[144]\tvalid_0's auc: 0.985439\n",
      "[145]\tvalid_0's auc: 0.985458\n",
      "[146]\tvalid_0's auc: 0.98535\n",
      "[147]\tvalid_0's auc: 0.985316\n",
      "[148]\tvalid_0's auc: 0.985282\n",
      "[149]\tvalid_0's auc: 0.985221\n",
      "[150]\tvalid_0's auc: 0.985382\n",
      "[151]\tvalid_0's auc: 0.985381\n",
      "[152]\tvalid_0's auc: 0.985411\n",
      "[153]\tvalid_0's auc: 0.985339\n",
      "[154]\tvalid_0's auc: 0.984527\n",
      "[155]\tvalid_0's auc: 0.984509\n",
      "[156]\tvalid_0's auc: 0.984503\n",
      "[157]\tvalid_0's auc: 0.984464\n",
      "[158]\tvalid_0's auc: 0.984506\n",
      "[159]\tvalid_0's auc: 0.984498\n",
      "[160]\tvalid_0's auc: 0.984492\n",
      "[161]\tvalid_0's auc: 0.984505\n",
      "[162]\tvalid_0's auc: 0.984491\n",
      "[163]\tvalid_0's auc: 0.984468\n",
      "[164]\tvalid_0's auc: 0.984416\n",
      "[165]\tvalid_0's auc: 0.984022\n",
      "[166]\tvalid_0's auc: 0.984058\n",
      "[167]\tvalid_0's auc: 0.98404\n",
      "[168]\tvalid_0's auc: 0.984001\n",
      "[169]\tvalid_0's auc: 0.984003\n",
      "[170]\tvalid_0's auc: 0.984023\n",
      "[171]\tvalid_0's auc: 0.984059\n",
      "[172]\tvalid_0's auc: 0.984083\n",
      "[173]\tvalid_0's auc: 0.98411\n",
      "[174]\tvalid_0's auc: 0.984132\n",
      "[175]\tvalid_0's auc: 0.98419\n",
      "[176]\tvalid_0's auc: 0.984213\n",
      "[177]\tvalid_0's auc: 0.984247\n",
      "[178]\tvalid_0's auc: 0.98419\n",
      "[179]\tvalid_0's auc: 0.984132\n",
      "[180]\tvalid_0's auc: 0.984175\n",
      "[181]\tvalid_0's auc: 0.984055\n",
      "[182]\tvalid_0's auc: 0.984135\n",
      "[183]\tvalid_0's auc: 0.984135\n",
      "[184]\tvalid_0's auc: 0.984153\n",
      "[185]\tvalid_0's auc: 0.984173\n",
      "[186]\tvalid_0's auc: 0.984174\n",
      "[187]\tvalid_0's auc: 0.984188\n",
      "[188]\tvalid_0's auc: 0.984137\n",
      "[189]\tvalid_0's auc: 0.984116\n",
      "[190]\tvalid_0's auc: 0.984104\n",
      "[191]\tvalid_0's auc: 0.984072\n",
      "[192]\tvalid_0's auc: 0.98409\n",
      "[193]\tvalid_0's auc: 0.984014\n",
      "[194]\tvalid_0's auc: 0.984049\n",
      "[195]\tvalid_0's auc: 0.984018\n",
      "[196]\tvalid_0's auc: 0.983997\n",
      "[197]\tvalid_0's auc: 0.984045\n",
      "[198]\tvalid_0's auc: 0.984041\n",
      "[199]\tvalid_0's auc: 0.983977\n",
      "[200]\tvalid_0's auc: 0.984026\n",
      "Early stopping, best iteration is:\n",
      "[100]\tvalid_0's auc: 0.985851\n"
     ]
    },
    {
     "data": {
      "text/plain": [
       "LGBMClassifier(boosting_type='gbdt', class_weight=None, colsample_bytree=1.0,\n",
       "        learning_rate=0.1, max_bin=255, max_depth=-1, min_child_samples=20,\n",
       "        min_child_weight=0.001, min_split_gain=0.0, n_estimators=1000,\n",
       "        n_jobs=-1, num_leaves=31, objective=None, random_state=None,\n",
       "        reg_alpha=0.0, reg_lambda=0.0, silent=True, subsample=1.0,\n",
       "        subsample_for_bin=200000, subsample_freq=1)"
      ]
     },
     "execution_count": 72,
     "metadata": {},
     "output_type": "execute_result"
    }
   ],
   "source": [
    "clf=lgb.LGBMClassifier(\n",
    "    boosting_type='gbdt',\n",
    "    num_leaves=31,\n",
    "    max_depth=-1,\n",
    "    learning_rate=0.1,\n",
    "    n_estimators=1000,\n",
    "    max_bin=255,\n",
    "    objective=None,\n",
    "    min_split_gain=0.0,\n",
    "    min_child_weight=0.001,\n",
    "    min_child_samples=20,\n",
    "    subsample=1.0,\n",
    "    subsample_freq=1,\n",
    "    colsample_bytree=1.0,\n",
    "    random_state=None, \n",
    "    n_jobs=-1,\n",
    "    silent=True\n",
    ")\n",
    "clf.fit(train_x, train_y,\n",
    "         eval_set=[(valid_x,valid_y)],\n",
    "        eval_init_score=None, eval_metric='auc',\n",
    "        early_stopping_rounds=100, verbose=True, feature_name=features,\n",
    "        categorical_feature=categorical_feature, callbacks=None\n",
    "        )"
   ]
  },
  {
   "cell_type": "code",
   "execution_count": 73,
   "metadata": {
    "scrolled": true
   },
   "outputs": [],
   "source": [
    "proba=clf.predict_proba(test)\n",
    "submission=pd.read_csv(\"./sub_sample/submission.csv\")\n",
    "submission[\"score\"]=proba[:,1]\n",
    "submission.to_csv(\"submission.csv\",index=False)"
   ]
  },
  {
   "cell_type": "code",
   "execution_count": 74,
   "metadata": {},
   "outputs": [
    {
     "data": {
      "text/plain": [
       "array([[9.99793051e-01, 2.06948896e-04],\n",
       "       [9.86249685e-01, 1.37503146e-02],\n",
       "       [9.99520298e-01, 4.79702096e-04],\n",
       "       ...,\n",
       "       [9.99877146e-01, 1.22854367e-04],\n",
       "       [9.99489933e-01, 5.10066933e-04],\n",
       "       [9.99934370e-01, 6.56303017e-05]])"
      ]
     },
     "execution_count": 74,
     "metadata": {},
     "output_type": "execute_result"
    }
   ],
   "source": [
    "proba"
   ]
  },
  {
   "cell_type": "code",
   "execution_count": 76,
   "metadata": {},
   "outputs": [],
   "source": [
    "valid_proba=clf.predict_proba(valid_x)"
   ]
  },
  {
   "cell_type": "code",
   "execution_count": 78,
   "metadata": {},
   "outputs": [],
   "source": [
    "from sklearn.metrics import roc_curve"
   ]
  },
  {
   "cell_type": "code",
   "execution_count": 79,
   "metadata": {},
   "outputs": [],
   "source": [
    "fpr,tpr,thresholds=roc_curve(valid_y,valid_proba[:,1],pos_label=1)"
   ]
  },
  {
   "cell_type": "code",
   "execution_count": 83,
   "metadata": {},
   "outputs": [],
   "source": [
    "%matplotlib inline \n",
    "import matplotlib.pyplot as plt"
   ]
  },
  {
   "cell_type": "code",
   "execution_count": 84,
   "metadata": {},
   "outputs": [
    {
     "data": {
      "image/png": "[encoded data removed]",
      "text/plain": [
       "<matplotlib.figure.Figure at 0x64404cc0>"
      ]
     },
     "metadata": {},
     "output_type": "display_data"
    }
   ],
   "source": [
    "plt.plot(fpr,tpr)\n",
    "plt.xlim([-0.05, 1.05])\n",
    "plt.ylim([-0.05, 1.05])\n",
    "plt.xlabel('False Positive Rate')\n",
    "plt.ylabel('True Positive Rate')\n",
    "plt.show()"
   ]
  },
  {
   "cell_type": "code",
   "execution_count": 90,
   "metadata": {},
   "outputs": [
    {
     "data": {
      "text/plain": [
       "array([0., 0., 0., ..., 1., 1., 1.])"
      ]
     },
     "execution_count": 90,
     "metadata": {},
     "output_type": "execute_result"
    }
   ],
   "source": [
    "tpr"
   ]
  },
  {
   "cell_type": "code",
   "execution_count": 91,
   "metadata": {},
   "outputs": [
    {
     "data": {
      "text/plain": [
       "array([0.00000000e+00, 5.11216081e-06, 1.53364824e-05, ...,\n",
       "       9.99575691e-01, 9.99984664e-01, 1.00000000e+00])"
      ]
     },
     "execution_count": 91,
     "metadata": {},
     "output_type": "execute_result"
    }
   ],
   "source": [
    "fpr"
   ]
  },
  {
   "cell_type": "code",
   "execution_count": 96,
   "metadata": {},
   "outputs": [
    {
     "data": {
      "text/plain": [
       "0.6246861924686192"
      ]
     },
     "execution_count": 96,
     "metadata": {},
     "output_type": "execute_result"
    }
   ],
   "source": [
    "tpr[np.where(fpr>=0.005)[0][0]]"
   ]
  },
  {
   "cell_type": "code",
   "execution_count": 98,
   "metadata": {},
   "outputs": [],
   "source": [
    "score=0.4*tpr[np.where(fpr>=0.001)[0][0]]+\\\n",
    "        0.3*tpr[np.where(fpr>=0.005)[0][0]]+\\\n",
    "        0.3*tpr[np.where(fpr>=0.01)[0][0]]"
   ]
  },
  {
   "cell_type": "code",
   "execution_count": 99,
   "metadata": {},
   "outputs": [
    {
     "data": {
      "text/plain": [
       "0.5317991631799164"
      ]
     },
     "execution_count": 99,
     "metadata": {},
     "output_type": "execute_result"
    }
   ],
   "source": [
    "score"
   ]
  },
  {
   "cell_type": "code",
   "execution_count": null,
   "metadata": {},
   "outputs": [],
   "source": [
    "\n",
    "    "
   ]
  }
 ],
 "metadata": {
  "kernelspec": {
   "display_name": "Python 3",
   "language": "python",
   "name": "python3"
  },
  "language_info": {
   "codemirror_mode": {
    "name": "ipython",
    "version": 3
   },
   "file_extension": ".py",
   "mimetype": "text/x-python",
   "name": "python",
   "nbconvert_exporter": "python",
   "pygments_lexer": "ipython3",
   "version": "3.6.4"
  }
 },
 "nbformat": 4,
 "nbformat_minor": 2
}
